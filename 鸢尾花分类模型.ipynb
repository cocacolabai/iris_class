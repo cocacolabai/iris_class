{
 "cells": [
  {
   "cell_type": "code",
   "execution_count": 1,
   "metadata": {},
   "outputs": [],
   "source": [
    "# 导入模块\n",
    "import tensorflow as tf\n",
    "import pandas as pd\n",
    "import numpy as np\n",
    "import matplotlib as mpl\n",
    "import matplotlib.pyplot as plt\n",
    "\n",
    "%matplotlib inline"
   ]
  },
  {
   "cell_type": "code",
   "execution_count": 2,
   "metadata": {},
   "outputs": [],
   "source": [
    "\"\"\"获取数据\"\"\"\n",
    "train_url = \"http://download.tensorflow.org/data/iris_training.csv\"\n",
    "train_path = tf.keras.utils.get_file(train_url.split('/')[-1], train_url)\n",
    "df_iris_train = pd.read_csv(train_path, header=0)\n",
    "\n",
    "test_url = \"http://download.tensorflow.org/data/iris_test.csv\"\n",
    "test_path = tf.keras.utils.get_file(test_url.split('/')[-1], test_url)\n",
    "df_iris_test = pd.read_csv(test_path, header=0)"
   ]
  },
  {
   "cell_type": "code",
   "execution_count": 3,
   "metadata": {},
   "outputs": [],
   "source": [
    "\"\"\"将DataFrame转为array\"\"\"\n",
    "iris_train = df_iris_train.values\n",
    "iris_test = df_iris_test.values"
   ]
  },
  {
   "cell_type": "code",
   "execution_count": 4,
   "metadata": {},
   "outputs": [],
   "source": [
    "\"\"\"划分自变量与因变量\"\"\"\n",
    "x_train, y_train = iris_train[:,:-1], iris_train[:, -1]\n",
    "x_test, y_test = iris_test[:,:-1], iris_test[:, -1]"
   ]
  },
  {
   "cell_type": "code",
   "execution_count": 5,
   "metadata": {},
   "outputs": [],
   "source": [
    "x_train = x_train[y_train < 2]\n",
    "y_train = y_train[y_train < 2]"
   ]
  },
  {
   "cell_type": "code",
   "execution_count": 6,
   "metadata": {},
   "outputs": [],
   "source": [
    "x_test = x_test[y_test < 2]\n",
    "y_test = y_test[y_test < 2]"
   ]
  },
  {
   "cell_type": "code",
   "execution_count": 7,
   "metadata": {},
   "outputs": [],
   "source": [
    "\"\"\"数据处理 -- 中心化\"\"\"\n",
    "x_train = x_train - np.mean(x_train, axis=0)\n",
    "x_test = x_test - np.mean(x_test, axis=0)"
   ]
  },
  {
   "cell_type": "code",
   "execution_count": 8,
   "metadata": {},
   "outputs": [
    {
     "name": "stdout",
     "output_type": "stream",
     "text": [
      "Model: \"sequential\"\n",
      "_________________________________________________________________\n",
      "Layer (type)                 Output Shape              Param #   \n",
      "=================================================================\n",
      "dense (Dense)                (None, 64)                320       \n",
      "_________________________________________________________________\n",
      "dense_1 (Dense)              (None, 64)                4160      \n",
      "_________________________________________________________________\n",
      "dense_2 (Dense)              (None, 1)                 65        \n",
      "=================================================================\n",
      "Total params: 4,545\n",
      "Trainable params: 4,545\n",
      "Non-trainable params: 0\n",
      "_________________________________________________________________\n"
     ]
    }
   ],
   "source": [
    "# 模型搭建\n",
    "model = tf.keras.Sequential()\n",
    "model.add(tf.keras.layers.Dense(64, activation='relu', input_shape=(4,)))\n",
    "model.add(tf.keras.layers.Dense(64, activation='relu'))\n",
    "model.add(tf.keras.layers.Dense(1, activation='sigmoid'))\n",
    "\n",
    "model.summary()"
   ]
  },
  {
   "cell_type": "code",
   "execution_count": 9,
   "metadata": {},
   "outputs": [],
   "source": [
    "# 模型的编译与训练\n",
    "model.compile(loss = 'binary_crossentropy',\n",
    "             optimizer='adam',\n",
    "             metrics=['acc', 'AUC'])"
   ]
  },
  {
   "cell_type": "code",
   "execution_count": 10,
   "metadata": {},
   "outputs": [
    {
     "name": "stdout",
     "output_type": "stream",
     "text": [
      "Train on 78 samples\n",
      "Epoch 1/100\n",
      "78/78 [==============================] - 3s 42ms/sample - loss: 0.7644 - acc: 0.4615 - AUC: 0.0046\n",
      "Epoch 2/100\n",
      "78/78 [==============================] - 0s 409us/sample - loss: 0.7139 - acc: 0.4615 - AUC: 0.4246\n",
      "Epoch 3/100\n",
      "78/78 [==============================] - 0s 384us/sample - loss: 0.6673 - acc: 0.4615 - AUC: 0.9927\n",
      "Epoch 4/100\n",
      "78/78 [==============================] - 0s 345us/sample - loss: 0.6242 - acc: 0.4744 - AUC: 1.0000\n",
      "Epoch 5/100\n",
      "78/78 [==============================] - 0s 384us/sample - loss: 0.5842 - acc: 0.8974 - AUC: 1.0000\n",
      "Epoch 6/100\n",
      "78/78 [==============================] - 0s 435us/sample - loss: 0.5461 - acc: 1.0000 - AUC: 1.0000\n",
      "Epoch 7/100\n",
      "78/78 [==============================] - 0s 396us/sample - loss: 0.5111 - acc: 1.0000 - AUC: 1.0000\n",
      "Epoch 8/100\n",
      "78/78 [==============================] - 0s 396us/sample - loss: 0.4782 - acc: 1.0000 - AUC: 1.0000\n",
      "Epoch 9/100\n",
      "78/78 [==============================] - 0s 409us/sample - loss: 0.4477 - acc: 1.0000 - AUC: 1.0000\n",
      "Epoch 10/100\n",
      "78/78 [==============================] - 0s 384us/sample - loss: 0.4191 - acc: 1.0000 - AUC: 1.0000\n",
      "Epoch 11/100\n",
      "78/78 [==============================] - 0s 435us/sample - loss: 0.3919 - acc: 1.0000 - AUC: 1.0000\n",
      "Epoch 12/100\n",
      "78/78 [==============================] - 0s 409us/sample - loss: 0.3659 - acc: 1.0000 - AUC: 1.0000\n",
      "Epoch 13/100\n",
      "78/78 [==============================] - 0s 409us/sample - loss: 0.3410 - acc: 1.0000 - AUC: 1.0000\n",
      "Epoch 14/100\n",
      "78/78 [==============================] - 0s 409us/sample - loss: 0.3173 - acc: 1.0000 - AUC: 1.0000\n",
      "Epoch 15/100\n",
      "78/78 [==============================] - 0s 435us/sample - loss: 0.2946 - acc: 1.0000 - AUC: 1.0000\n",
      "Epoch 16/100\n",
      "78/78 [==============================] - 0s 473us/sample - loss: 0.2731 - acc: 1.0000 - AUC: 1.0000\n",
      "Epoch 17/100\n",
      "78/78 [==============================] - 0s 371us/sample - loss: 0.2524 - acc: 1.0000 - AUC: 1.0000\n",
      "Epoch 18/100\n",
      "78/78 [==============================] - 0s 422us/sample - loss: 0.2327 - acc: 1.0000 - AUC: 1.0000\n",
      "Epoch 19/100\n",
      "78/78 [==============================] - 0s 384us/sample - loss: 0.2141 - acc: 1.0000 - AUC: 1.0000\n",
      "Epoch 20/100\n",
      "78/78 [==============================] - 0s 384us/sample - loss: 0.1963 - acc: 1.0000 - AUC: 1.0000\n",
      "Epoch 21/100\n",
      "78/78 [==============================] - 0s 435us/sample - loss: 0.1797 - acc: 1.0000 - AUC: 1.0000\n",
      "Epoch 22/100\n",
      "78/78 [==============================] - 0s 473us/sample - loss: 0.1640 - acc: 1.0000 - AUC: 1.0000\n",
      "Epoch 23/100\n",
      "78/78 [==============================] - 0s 396us/sample - loss: 0.1493 - acc: 1.0000 - AUC: 1.0000\n",
      "Epoch 24/100\n",
      "78/78 [==============================] - 0s 422us/sample - loss: 0.1358 - acc: 1.0000 - AUC: 1.0000\n",
      "Epoch 25/100\n",
      "78/78 [==============================] - 0s 435us/sample - loss: 0.1232 - acc: 1.0000 - AUC: 1.0000\n",
      "Epoch 26/100\n",
      "78/78 [==============================] - 0s 460us/sample - loss: 0.1116 - acc: 1.0000 - AUC: 1.0000\n",
      "Epoch 27/100\n",
      "78/78 [==============================] - 0s 435us/sample - loss: 0.1009 - acc: 1.0000 - AUC: 1.0000\n",
      "Epoch 28/100\n",
      "78/78 [==============================] - 0s 499us/sample - loss: 0.0912 - acc: 1.0000 - AUC: 1.0000\n",
      "Epoch 29/100\n",
      "78/78 [==============================] - 0s 409us/sample - loss: 0.0823 - acc: 1.0000 - AUC: 1.0000\n",
      "Epoch 30/100\n",
      "78/78 [==============================] - 0s 396us/sample - loss: 0.0745 - acc: 1.0000 - AUC: 1.0000\n",
      "Epoch 31/100\n",
      "78/78 [==============================] - 0s 396us/sample - loss: 0.0672 - acc: 1.0000 - AUC: 1.0000\n",
      "Epoch 32/100\n",
      "78/78 [==============================] - 0s 435us/sample - loss: 0.0610 - acc: 1.0000 - AUC: 1.0000\n",
      "Epoch 33/100\n",
      "78/78 [==============================] - 0s 473us/sample - loss: 0.0552 - acc: 1.0000 - AUC: 1.0000\n",
      "Epoch 34/100\n",
      "78/78 [==============================] - 0s 409us/sample - loss: 0.0502 - acc: 1.0000 - AUC: 1.0000\n",
      "Epoch 35/100\n",
      "78/78 [==============================] - 0s 422us/sample - loss: 0.0455 - acc: 1.0000 - AUC: 1.0000\n",
      "Epoch 36/100\n",
      "78/78 [==============================] - 0s 499us/sample - loss: 0.0417 - acc: 1.0000 - AUC: 1.0000\n",
      "Epoch 37/100\n",
      "78/78 [==============================] - 0s 371us/sample - loss: 0.0380 - acc: 1.0000 - AUC: 1.0000\n",
      "Epoch 38/100\n",
      "78/78 [==============================] - 0s 473us/sample - loss: 0.0349 - acc: 1.0000 - AUC: 1.0000\n",
      "Epoch 39/100\n",
      "78/78 [==============================] - 0s 435us/sample - loss: 0.0320 - acc: 1.0000 - AUC: 1.0000\n",
      "Epoch 40/100\n",
      "78/78 [==============================] - 0s 473us/sample - loss: 0.0296 - acc: 1.0000 - AUC: 1.0000\n",
      "Epoch 41/100\n",
      "78/78 [==============================] - 0s 422us/sample - loss: 0.0274 - acc: 1.0000 - AUC: 1.0000\n",
      "Epoch 42/100\n",
      "78/78 [==============================] - 0s 358us/sample - loss: 0.0253 - acc: 1.0000 - AUC: 1.0000\n",
      "Epoch 43/100\n",
      "78/78 [==============================] - 0s 307us/sample - loss: 0.0236 - acc: 1.0000 - AUC: 1.0000\n",
      "Epoch 44/100\n",
      "78/78 [==============================] - 0s 396us/sample - loss: 0.0219 - acc: 1.0000 - AUC: 1.0000\n",
      "Epoch 45/100\n",
      "78/78 [==============================] - 0s 358us/sample - loss: 0.0205 - acc: 1.0000 - AUC: 1.0000\n",
      "Epoch 46/100\n",
      "78/78 [==============================] - 0s 320us/sample - loss: 0.0192 - acc: 1.0000 - AUC: 1.0000\n",
      "Epoch 47/100\n",
      "78/78 [==============================] - 0s 422us/sample - loss: 0.0180 - acc: 1.0000 - AUC: 1.0000\n",
      "Epoch 48/100\n",
      "78/78 [==============================] - 0s 422us/sample - loss: 0.0169 - acc: 1.0000 - AUC: 1.0000\n",
      "Epoch 49/100\n",
      "78/78 [==============================] - 0s 473us/sample - loss: 0.0160 - acc: 1.0000 - AUC: 1.0000\n",
      "Epoch 50/100\n",
      "78/78 [==============================] - 0s 371us/sample - loss: 0.0151 - acc: 1.0000 - AUC: 1.0000\n",
      "Epoch 51/100\n",
      "78/78 [==============================] - 0s 448us/sample - loss: 0.0143 - acc: 1.0000 - AUC: 1.0000\n",
      "Epoch 52/100\n",
      "78/78 [==============================] - 0s 371us/sample - loss: 0.0135 - acc: 1.0000 - AUC: 1.0000\n",
      "Epoch 53/100\n",
      "78/78 [==============================] - 0s 422us/sample - loss: 0.0128 - acc: 1.0000 - AUC: 1.0000\n",
      "Epoch 54/100\n",
      "78/78 [==============================] - 0s 345us/sample - loss: 0.0122 - acc: 1.0000 - AUC: 1.0000\n",
      "Epoch 55/100\n",
      "78/78 [==============================] - 0s 409us/sample - loss: 0.0116 - acc: 1.0000 - AUC: 1.0000\n",
      "Epoch 56/100\n",
      "78/78 [==============================] - 0s 358us/sample - loss: 0.0110 - acc: 1.0000 - AUC: 1.0000\n",
      "Epoch 57/100\n",
      "78/78 [==============================] - 0s 345us/sample - loss: 0.0105 - acc: 1.0000 - AUC: 1.0000\n",
      "Epoch 58/100\n",
      "78/78 [==============================] - 0s 320us/sample - loss: 0.0101 - acc: 1.0000 - AUC: 1.0000\n",
      "Epoch 59/100\n",
      "78/78 [==============================] - 0s 409us/sample - loss: 0.0096 - acc: 1.0000 - AUC: 1.0000\n",
      "Epoch 60/100\n",
      "78/78 [==============================] - 0s 435us/sample - loss: 0.0092 - acc: 1.0000 - AUC: 1.0000\n",
      "Epoch 61/100\n",
      "78/78 [==============================] - 0s 435us/sample - loss: 0.0089 - acc: 1.0000 - AUC: 1.0000\n",
      "Epoch 62/100\n",
      "78/78 [==============================] - 0s 332us/sample - loss: 0.0085 - acc: 1.0000 - AUC: 1.0000\n",
      "Epoch 63/100\n",
      "78/78 [==============================] - 0s 307us/sample - loss: 0.0082 - acc: 1.0000 - AUC: 1.0000\n",
      "Epoch 64/100\n",
      "78/78 [==============================] - 0s 460us/sample - loss: 0.0079 - acc: 1.0000 - AUC: 1.0000\n",
      "Epoch 65/100\n",
      "78/78 [==============================] - 0s 384us/sample - loss: 0.0076 - acc: 1.0000 - AUC: 1.0000\n",
      "Epoch 66/100\n",
      "78/78 [==============================] - 0s 409us/sample - loss: 0.0073 - acc: 1.0000 - AUC: 1.0000\n",
      "Epoch 67/100\n",
      "78/78 [==============================] - 0s 409us/sample - loss: 0.0071 - acc: 1.0000 - AUC: 1.0000\n",
      "Epoch 68/100\n",
      "78/78 [==============================] - 0s 396us/sample - loss: 0.0068 - acc: 1.0000 - AUC: 1.0000\n",
      "Epoch 69/100\n",
      "78/78 [==============================] - 0s 435us/sample - loss: 0.0066 - acc: 1.0000 - AUC: 1.0000\n",
      "Epoch 70/100\n",
      "78/78 [==============================] - 0s 460us/sample - loss: 0.0064 - acc: 1.0000 - AUC: 1.0000\n",
      "Epoch 71/100\n",
      "78/78 [==============================] - 0s 422us/sample - loss: 0.0062 - acc: 1.0000 - AUC: 1.0000\n",
      "Epoch 72/100\n",
      "78/78 [==============================] - 0s 371us/sample - loss: 0.0060 - acc: 1.0000 - AUC: 1.0000\n",
      "Epoch 73/100\n"
     ]
    },
    {
     "name": "stdout",
     "output_type": "stream",
     "text": [
      "78/78 [==============================] - 0s 358us/sample - loss: 0.0058 - acc: 1.0000 - AUC: 1.0000\n",
      "Epoch 74/100\n",
      "78/78 [==============================] - 0s 422us/sample - loss: 0.0056 - acc: 1.0000 - AUC: 1.0000\n",
      "Epoch 75/100\n",
      "78/78 [==============================] - 0s 448us/sample - loss: 0.0054 - acc: 1.0000 - AUC: 1.0000\n",
      "Epoch 76/100\n",
      "78/78 [==============================] - 0s 422us/sample - loss: 0.0052 - acc: 1.0000 - AUC: 1.0000\n",
      "Epoch 77/100\n",
      "78/78 [==============================] - 0s 358us/sample - loss: 0.0051 - acc: 1.0000 - AUC: 1.0000\n",
      "Epoch 78/100\n",
      "78/78 [==============================] - 0s 422us/sample - loss: 0.0049 - acc: 1.0000 - AUC: 1.0000\n",
      "Epoch 79/100\n",
      "78/78 [==============================] - 0s 396us/sample - loss: 0.0048 - acc: 1.0000 - AUC: 1.0000\n",
      "Epoch 80/100\n",
      "78/78 [==============================] - 0s 371us/sample - loss: 0.0046 - acc: 1.0000 - AUC: 1.0000\n",
      "Epoch 81/100\n",
      "78/78 [==============================] - 0s 409us/sample - loss: 0.0045 - acc: 1.0000 - AUC: 1.0000\n",
      "Epoch 82/100\n",
      "78/78 [==============================] - 0s 384us/sample - loss: 0.0044 - acc: 1.0000 - AUC: 1.0000\n",
      "Epoch 83/100\n",
      "78/78 [==============================] - 0s 422us/sample - loss: 0.0043 - acc: 1.0000 - AUC: 1.0000\n",
      "Epoch 84/100\n",
      "78/78 [==============================] - ETA: 0s - loss: 0.0036 - acc: 1.0000 - AUC: 1.000 - 0s 435us/sample - loss: 0.0042 - acc: 1.0000 - AUC: 1.0000\n",
      "Epoch 85/100\n",
      "78/78 [==============================] - 0s 422us/sample - loss: 0.0040 - acc: 1.0000 - AUC: 1.0000\n",
      "Epoch 86/100\n",
      "78/78 [==============================] - 0s 448us/sample - loss: 0.0039 - acc: 1.0000 - AUC: 1.0000\n",
      "Epoch 87/100\n",
      "78/78 [==============================] - 0s 409us/sample - loss: 0.0038 - acc: 1.0000 - AUC: 1.0000\n",
      "Epoch 88/100\n",
      "78/78 [==============================] - 0s 435us/sample - loss: 0.0037 - acc: 1.0000 - AUC: 1.0000\n",
      "Epoch 89/100\n",
      "78/78 [==============================] - 0s 409us/sample - loss: 0.0036 - acc: 1.0000 - AUC: 1.0000\n",
      "Epoch 90/100\n",
      "78/78 [==============================] - 0s 422us/sample - loss: 0.0035 - acc: 1.0000 - AUC: 1.0000\n",
      "Epoch 91/100\n",
      "78/78 [==============================] - 0s 409us/sample - loss: 0.0035 - acc: 1.0000 - AUC: 1.0000\n",
      "Epoch 92/100\n",
      "78/78 [==============================] - 0s 371us/sample - loss: 0.0034 - acc: 1.0000 - AUC: 1.0000\n",
      "Epoch 93/100\n",
      "78/78 [==============================] - 0s 447us/sample - loss: 0.0033 - acc: 1.0000 - AUC: 1.0000\n",
      "Epoch 94/100\n",
      "78/78 [==============================] - 0s 371us/sample - loss: 0.0032 - acc: 1.0000 - AUC: 1.0000\n",
      "Epoch 95/100\n",
      "78/78 [==============================] - 0s 409us/sample - loss: 0.0031 - acc: 1.0000 - AUC: 1.0000\n",
      "Epoch 96/100\n",
      "78/78 [==============================] - 0s 422us/sample - loss: 0.0031 - acc: 1.0000 - AUC: 1.0000\n",
      "Epoch 97/100\n",
      "78/78 [==============================] - 0s 460us/sample - loss: 0.0030 - acc: 1.0000 - AUC: 1.0000\n",
      "Epoch 98/100\n",
      "78/78 [==============================] - 0s 345us/sample - loss: 0.0029 - acc: 1.0000 - AUC: 1.0000\n",
      "Epoch 99/100\n",
      "78/78 [==============================] - 0s 435us/sample - loss: 0.0029 - acc: 1.0000 - AUC: 1.0000\n",
      "Epoch 100/100\n",
      "78/78 [==============================] - 0s 486us/sample - loss: 0.0028 - acc: 1.0000 - AUC: 1.0000\n"
     ]
    }
   ],
   "source": [
    "# 模型训练\n",
    "history = model.fit(x_train, y_train, epochs=100, batch_size=64)"
   ]
  },
  {
   "cell_type": "code",
   "execution_count": 11,
   "metadata": {},
   "outputs": [
    {
     "name": "stdout",
     "output_type": "stream",
     "text": [
      "\r",
      "22/22 [==============================] - 0s 16ms/sample - loss: 0.0072 - acc: 1.0000 - AUC: 1.0000\n"
     ]
    },
    {
     "data": {
      "text/plain": [
       "[0.007193049881607294, 1.0, 1.0]"
      ]
     },
     "execution_count": 11,
     "metadata": {},
     "output_type": "execute_result"
    }
   ],
   "source": [
    "# 测试集检测\n",
    "model.evaluate(x=x_test, y=y_test)"
   ]
  },
  {
   "cell_type": "code",
   "execution_count": 22,
   "metadata": {},
   "outputs": [],
   "source": [
    "# 预测\n",
    "y_pred = np.round(model.predict(x_test),0)"
   ]
  },
  {
   "cell_type": "code",
   "execution_count": 23,
   "metadata": {},
   "outputs": [
    {
     "data": {
      "text/html": [
       "<div>\n",
       "<style scoped>\n",
       "    .dataframe tbody tr th:only-of-type {\n",
       "        vertical-align: middle;\n",
       "    }\n",
       "\n",
       "    .dataframe tbody tr th {\n",
       "        vertical-align: top;\n",
       "    }\n",
       "\n",
       "    .dataframe thead th {\n",
       "        text-align: right;\n",
       "    }\n",
       "</style>\n",
       "<table border=\"1\" class=\"dataframe\">\n",
       "  <thead>\n",
       "    <tr style=\"text-align: right;\">\n",
       "      <th></th>\n",
       "      <th>0</th>\n",
       "      <th>1</th>\n",
       "    </tr>\n",
       "  </thead>\n",
       "  <tbody>\n",
       "    <tr>\n",
       "      <th>0</th>\n",
       "      <td>8</td>\n",
       "      <td>0</td>\n",
       "    </tr>\n",
       "    <tr>\n",
       "      <th>1</th>\n",
       "      <td>0</td>\n",
       "      <td>14</td>\n",
       "    </tr>\n",
       "  </tbody>\n",
       "</table>\n",
       "</div>"
      ],
      "text/plain": [
       "   0   1\n",
       "0  8   0\n",
       "1  0  14"
      ]
     },
     "execution_count": 23,
     "metadata": {},
     "output_type": "execute_result"
    }
   ],
   "source": [
    "from sklearn.metrics import confusion_matrix\n",
    "\n",
    "matrix = confusion_matrix(y_test, y_pred)\n",
    "classes = ['0', '1']\n",
    "dataframe = pd.DataFrame(data=matrix.T, index=classes, columns=classes)\n",
    "dataframe"
   ]
  },
  {
   "cell_type": "code",
   "execution_count": null,
   "metadata": {},
   "outputs": [],
   "source": []
  }
 ],
 "metadata": {
  "kernelspec": {
   "display_name": "dl",
   "language": "python",
   "name": "dl"
  },
  "language_info": {
   "codemirror_mode": {
    "name": "ipython",
    "version": 3
   },
   "file_extension": ".py",
   "mimetype": "text/x-python",
   "name": "python",
   "nbconvert_exporter": "python",
   "pygments_lexer": "ipython3",
   "version": "3.6.10"
  }
 },
 "nbformat": 4,
 "nbformat_minor": 4
}
